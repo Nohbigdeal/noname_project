{
 "cells": [
  {
   "cell_type": "code",
   "execution_count": 2,
   "id": "0601625b",
   "metadata": {},
   "outputs": [],
   "source": [
    "# 최종 목표 : 조건별 체크박스를 만들고, 조건에 따라 양식을 필터링(소거 방식)하고 최종 결과물을 출력함\n",
    "\n",
    "import pandas as pd\n",
    "import numpy as np\n"
   ]
  }
 ],
 "metadata": {
  "kernelspec": {
   "display_name": "Python 3",
   "language": "python",
   "name": "python3"
  },
  "language_info": {
   "codemirror_mode": {
    "name": "ipython",
    "version": 3
   },
   "file_extension": ".py",
   "mimetype": "text/x-python",
   "name": "python",
   "nbconvert_exporter": "python",
   "pygments_lexer": "ipython3",
   "version": "3.8.8"
  }
 },
 "nbformat": 4,
 "nbformat_minor": 5
}
